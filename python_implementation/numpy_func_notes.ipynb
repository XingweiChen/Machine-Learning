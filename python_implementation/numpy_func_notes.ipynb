{
 "cells": [
  {
   "cell_type": "code",
   "execution_count": 1,
   "metadata": {},
   "outputs": [],
   "source": [
    "import numpy as np"
   ]
  },
  {
   "cell_type": "code",
   "execution_count": 2,
   "metadata": {},
   "outputs": [],
   "source": [
    "a1 = np.array([-2, -1, 0, 1])"
   ]
  },
  {
   "cell_type": "code",
   "execution_count": 3,
   "metadata": {},
   "outputs": [],
   "source": [
    "a2 = np.array([-1, 0, 1])"
   ]
  },
  {
   "cell_type": "code",
   "execution_count": 15,
   "metadata": {},
   "outputs": [
    {
     "name": "stdout",
     "output_type": "stream",
     "text": [
      "--- left ---\n",
      "a1_a2: \n",
      " [[-2 -1  0  1]\n",
      " [-2 -1  0  1]\n",
      " [-2 -1  0  1]]\n",
      "a2_a1: \n",
      " [[-1  0  1]\n",
      " [-1  0  1]\n",
      " [-1  0  1]\n",
      " [-1  0  1]]\n",
      "--- right ---\n",
      "a1_a2: \n",
      " [[-1 -1 -1 -1]\n",
      " [ 0  0  0  0]\n",
      " [ 1  1  1  1]]\n",
      "a2_a1: \n",
      " [[-2 -2 -2]\n",
      " [-1 -1 -1]\n",
      " [ 0  0  0]\n",
      " [ 1  1  1]]\n"
     ]
    }
   ],
   "source": [
    "o1, o2 = np.meshgrid(a1, a2)\n",
    "o3, o4 = np.meshgrid(a2, a1)\n",
    "print(\"--- left ---\")\n",
    "print(\"a1_a2: \\n\", o1)\n",
    "print(\"a2_a1: \\n\", o3)\n",
    "print(\"--- right ---\")\n",
    "print(\"a1_a2: \\n\", o2)\n",
    "print(\"a2_a1: \\n\", o4)"
   ]
  },
  {
   "cell_type": "code",
   "execution_count": 43,
   "metadata": {},
   "outputs": [],
   "source": [
    "import numpy as np"
   ]
  },
  {
   "cell_type": "code",
   "execution_count": 44,
   "metadata": {},
   "outputs": [],
   "source": [
    "a=[[1],[2],[3]]\n",
    "b=[[1],[2],[3]]\n",
    "c=[[1],[2],[3]]\n",
    "d=[[1],[2],[3]]"
   ]
  },
  {
   "cell_type": "code",
   "execution_count": 47,
   "metadata": {},
   "outputs": [
    {
     "name": "stdout",
     "output_type": "stream",
     "text": [
      "[[1 1 1 1]\n",
      " [2 2 2 2]\n",
      " [3 3 3 3]] (3, 4)\n"
     ]
    }
   ],
   "source": [
    "nh = np.hstack([a,b,c,d])\n",
    "print(nh, nh.shape)"
   ]
  },
  {
   "cell_type": "code",
   "execution_count": 48,
   "metadata": {},
   "outputs": [
    {
     "name": "stdout",
     "output_type": "stream",
     "text": [
      "[[1]\n",
      " [2]\n",
      " [3]\n",
      " [1]\n",
      " [2]\n",
      " [3]\n",
      " [1]\n",
      " [2]\n",
      " [3]\n",
      " [1]\n",
      " [2]\n",
      " [3]] (12, 1)\n"
     ]
    }
   ],
   "source": [
    "nv = np.vstack([a,b,c,d])\n",
    "print(nv, nv.shape)"
   ]
  },
  {
   "cell_type": "code",
   "execution_count": 49,
   "metadata": {},
   "outputs": [],
   "source": [
    "a = [[1, 2, 3]]\n",
    "b = [[1, 2, 3]]\n",
    "c = [[1, 2, 3]]\n",
    "d = [[1, 2, 3]]"
   ]
  },
  {
   "cell_type": "code",
   "execution_count": 50,
   "metadata": {},
   "outputs": [
    {
     "name": "stdout",
     "output_type": "stream",
     "text": [
      "[[1 2 3]\n",
      " [1 2 3]\n",
      " [1 2 3]\n",
      " [1 2 3]] (4, 3)\n"
     ]
    }
   ],
   "source": [
    "nv = np.vstack([a,b,c,d])\n",
    "print(nv, nv.shape)"
   ]
  },
  {
   "cell_type": "code",
   "execution_count": 51,
   "metadata": {},
   "outputs": [
    {
     "name": "stdout",
     "output_type": "stream",
     "text": [
      "[[1 2 3 1 2 3 1 2 3 1 2 3]] (1, 12)\n"
     ]
    }
   ],
   "source": [
    "nh = np.hstack([a,b,c,d])\n",
    "print(nh, nh.shape)"
   ]
  },
  {
   "cell_type": "code",
   "execution_count": 52,
   "metadata": {},
   "outputs": [
    {
     "name": "stdout",
     "output_type": "stream",
     "text": [
      "[[[1 2 3]]\n",
      "\n",
      " [[1 2 3]]\n",
      "\n",
      " [[1 2 3]]\n",
      "\n",
      " [[1 2 3]]] (4, 1, 3)\n"
     ]
    }
   ],
   "source": [
    "n1 = np.stack([a,b,c,d])\n",
    "\n",
    "print(n1, n1.shape)"
   ]
  },
  {
   "cell_type": "code",
   "execution_count": 53,
   "metadata": {},
   "outputs": [
    {
     "name": "stdout",
     "output_type": "stream",
     "text": [
      "[[[1 2 3]]\n",
      "\n",
      " [[1 2 3]]\n",
      "\n",
      " [[1 2 3]]\n",
      "\n",
      " [[1 2 3]]] (4, 1, 3)\n"
     ]
    }
   ],
   "source": [
    "n2 = np.stack([a,b,c,d], axis = 0)\n",
    "print(n2, n2.shape)"
   ]
  },
  {
   "cell_type": "code",
   "execution_count": 38,
   "metadata": {},
   "outputs": [
    {
     "name": "stdout",
     "output_type": "stream",
     "text": [
      "[[[1 2 3]\n",
      "  [1 2 3]\n",
      "  [1 2 3]\n",
      "  [1 2 3]]] (1, 4, 3)\n"
     ]
    }
   ],
   "source": [
    "n3 = np.stack([a,b,c,d], axis = 1)\n",
    "print(n3, n3.shape)\n",
    "# axis决定的是前两个dimension增加哪一个"
   ]
  },
  {
   "cell_type": "code",
   "execution_count": null,
   "metadata": {},
   "outputs": [],
   "source": []
  }
 ],
 "metadata": {
  "kernelspec": {
   "display_name": "Python 3",
   "language": "python",
   "name": "python3"
  },
  "language_info": {
   "codemirror_mode": {
    "name": "ipython",
    "version": 3
   },
   "file_extension": ".py",
   "mimetype": "text/x-python",
   "name": "python",
   "nbconvert_exporter": "python",
   "pygments_lexer": "ipython3",
   "version": "3.6.5"
  }
 },
 "nbformat": 4,
 "nbformat_minor": 2
}
