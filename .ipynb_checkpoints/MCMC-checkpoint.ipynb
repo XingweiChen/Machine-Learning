{
 "cells": [
  {
   "cell_type": "code",
   "execution_count": 2,
   "metadata": {
    "collapsed": true
   },
   "outputs": [],
   "source": [
    "import random\n",
    "import math\n",
    "import matplotlib.pyplot as plt\n",
    "import seaborn as sns\n",
    "import numpy as np\n",
    "\n",
    "%matplotlib inline\n",
    "sns.set_style('darkgrid')\n",
    "plt.rcParams['figure.figsize'] = (12, 8)"
   ]
  },
  {
   "cell_type": "markdown",
   "metadata": {},
   "source": [
    "### 对$f(x) = {{(x-0.4)^4} \\over {\\int_0^1{(x-0.4)^4 dx}}}$, 进行接受拒绝采样"
   ]
  },
  {
   "cell_type": "code",
   "execution_count": 7,
   "metadata": {
    "collapsed": false
   },
   "outputs": [
    {
     "data": {
      "image/png": "[encoded data removed]",
      "text/plain": [
       "<matplotlib.figure.Figure at 0x115c7b250>"
      ]
     },
     "metadata": {},
     "output_type": "display_data"
    },
    {
     "name": "stdout",
     "output_type": "stream",
     "text": [
      "10000\n"
     ]
    }
   ],
   "source": [
    "def AcceptReject(split_val):\n",
    "    global c\n",
    "    global power\n",
    "    while True:\n",
    "        x = random.uniform(0, 1)\n",
    "        y = random.uniform(0, 1)\n",
    "        if y*c <= math.pow(x - split_val, power):\n",
    "            return x\n",
    "\n",
    "        \n",
    "power = 4\n",
    "t = 0.4\n",
    "sum_ = (math.pow(1-t, power+1) - math.pow(-t, power + 1)) / (power + 1)\n",
    "x = np.linspace(0, 1, 100)\n",
    "\n",
    "c = 0.6 ** 4 / sum_\n",
    "cc = [c for _ in x]\n",
    "plt.plot(x, cc, '--', label='c*f(x)')\n",
    "# 目标概率密度函数的值\n",
    "y = [math.pow(xi - t, power) / sum_ for xi in x]\n",
    "plt.plot(x, y, label='f(x)')\n",
    "\n",
    "samples = []\n",
    "for i in range(10000):\n",
    "    samples.append(AcceptReject(t))\n",
    "plt.hist(samples, bins=50, normed=True, label='sampling')\n",
    "plt.legend()\n",
    "plt.show()\n",
    "print(len(samples))"
   ]
  },
  {
   "cell_type": "markdown",
   "metadata": {},
   "source": [
    "### M-H采样：假设目标是一个mean=4，std=2的正态分布，而选择的马尔可夫链状态转移矩阵Q(i,j)的条件转移概率是mean=i，std=1的正态分布在位置j的值"
   ]
  },
  {
   "cell_type": "code",
   "execution_count": 9,
   "metadata": {
    "collapsed": true
   },
   "outputs": [],
   "source": [
    "from scipy.stats import norm\n",
    "\n",
    "\n",
    "def norm_dist_prob(theta):\n",
    "    y = norm.pdf(theta, loc=3, scale=2)\n",
    "    return y\n",
    "\n",
    "T = 5000\n",
    "pi = [0 for i in range(T)]\n",
    "sigma = 1\n",
    "t = 0\n",
    "while t < T-1:\n",
    "    t += 1\n",
    "    pi_star = norm.rvs(loc=pi[t-1], scale=sigma, size=1, random_state=None)\n",
    "    alpha = min(1, (norm_dist_prob(pi_star[0]) / norm_dist_prob(pi[t-1])))\n",
    "    \n",
    "    u = random.uniform(0, 1)\n",
    "    pi[t] = pi_star[0] if u < alpha else pi[t-1]\n",
    "    \n",
    "plt.scatter(pi, norm.pdf(pi, loc=3, scale=2), label='Target Distribution')\n",
    "num_bins = 50\n",
    "plt.hist(pi, num_bins, normed=1, facecolor='red', alpha=0.7,label='Samples Distribution')\n",
    "plt.legend()\n",
    "plt.show()"
   ]
  },
  {
   "cell_type": "code",
   "execution_count": null,
   "metadata": {
    "collapsed": true
   },
   "outputs": [],
   "source": []
  },
  {
   "cell_type": "code",
   "execution_count": null,
   "metadata": {
    "collapsed": true
   },
   "outputs": [],
   "source": []
  },
  {
   "cell_type": "code",
   "execution_count": null,
   "metadata": {
    "collapsed": true
   },
   "outputs": [],
   "source": []
  },
  {
   "cell_type": "code",
   "execution_count": null,
   "metadata": {
    "collapsed": true
   },
   "outputs": [],
   "source": []
  }
 ],
 "metadata": {
  "kernelspec": {
   "display_name": "Python 2",
   "language": "python",
   "name": "python2"
  },
  "language_info": {
   "codemirror_mode": {
    "name": "ipython",
    "version": 2
   },
   "file_extension": ".py",
   "mimetype": "text/x-python",
   "name": "python",
   "nbconvert_exporter": "python",
   "pygments_lexer": "ipython2",
   "version": "2.7.13"
  }
 },
 "nbformat": 4,
 "nbformat_minor": 2
}
